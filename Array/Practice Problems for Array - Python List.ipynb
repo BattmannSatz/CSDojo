{
 "cells": [
  {
   "cell_type": "markdown",
   "metadata": {},
   "source": [
    "# Exercise Problems for Python List (Array)!\n",
    "\n",
    "Remember, if you're familiar with Array in other languages like Java and C++, it's usually implemented as a List in Python."
   ]
  },
  {
   "cell_type": "markdown",
   "metadata": {},
   "source": [
    "### Problem 1: Initialize a new list called a_list with the elements [\"item1\", \"item2\", \"item3\"]."
   ]
  },
  {
   "metadata": {},
   "cell_type": "code",
   "outputs": [],
   "execution_count": null,
   "source": ""
  },
  {
   "metadata": {},
   "cell_type": "markdown",
   "source": ""
  },
  {
   "cell_type": "code",
   "metadata": {
    "collapsed": true,
    "jupyter": {
     "is_executing": true
    }
   },
   "source": [
    "# Write your solution below:\n",
    "a_list=['item1', 'item2', 'item3']"
   ],
   "outputs": [],
   "execution_count": null
  },
  {
   "cell_type": "code",
   "metadata": {
    "collapsed": false
   },
   "source": [
    "a_list=['item1', 'item2', 'item3']\n",
    "print(\"a_list is: \")\n",
    "print(a_list) # This should print ['item1', 'item2', 'item3']"
   ],
   "outputs": [
    {
     "name": "stdout",
     "output_type": "stream",
     "text": [
      "a_list is: \n",
      "['item1', 'item2', 'item3']\n"
     ]
    }
   ],
   "execution_count": 1
  },
  {
   "cell_type": "markdown",
   "metadata": {},
   "source": [
    "### Problem 2: Change the second element in b_list (defined below) to 1."
   ]
  },
  {
   "cell_type": "code",
   "metadata": {
    "collapsed": true,
    "ExecuteTime": {
     "end_time": "2024-12-24T05:40:36.619890Z",
     "start_time": "2024-12-24T05:40:36.614028Z"
    }
   },
   "source": [
    "b_list = [0, 0, 0]\n",
    "# Write your solution below:\n",
    "b_list[1]=1"
   ],
   "outputs": [],
   "execution_count": 3
  },
  {
   "cell_type": "code",
   "metadata": {
    "collapsed": false,
    "ExecuteTime": {
     "end_time": "2024-12-24T05:40:41.535773Z",
     "start_time": "2024-12-24T05:40:41.529921Z"
    }
   },
   "source": [
    "print(\"b_list is: \")\n",
    "print(b_list) # This should print [0, 1, 0]"
   ],
   "outputs": [
    {
     "name": "stdout",
     "output_type": "stream",
     "text": [
      "b_list is: \n",
      "[0, 1, 0]\n"
     ]
    }
   ],
   "execution_count": 4
  },
  {
   "cell_type": "markdown",
   "metadata": {},
   "source": [
    "### Problem 3: Iterate over each element in c_list and print it using the \"for element in ...\" syntax."
   ]
  },
  {
   "cell_type": "code",
   "execution_count": null,
   "metadata": {
    "collapsed": false
   },
   "outputs": [],
   "source": [
    "c_list = [\"item0\", \"item1\", \"item2\"]\n",
    "# Write your solution below:"
   ]
  },
  {
   "cell_type": "markdown",
   "metadata": {},
   "source": [
    "### Problem 4: Iterate over each element in d_list and print it using the \"for i in range(...)\" syntax."
   ]
  },
  {
   "cell_type": "code",
   "execution_count": null,
   "metadata": {
    "collapsed": false
   },
   "outputs": [],
   "source": [
    "d_list = [\"item0\", \"item1\", \"item2\"]\n",
    "# Write your solution below:\n",
    "# range(3) -> [0, 1, 2]\n",
    "\n",
    "print(\"Your solution should have printed item0, item1, and item2.\")"
   ]
  },
  {
   "cell_type": "markdown",
   "metadata": {},
   "source": [
    "### Problem 5: Find the sum of e_list, which contains: [32, 55, 710, 1]."
   ]
  },
  {
   "cell_type": "code",
   "execution_count": null,
   "metadata": {
    "collapsed": false
   },
   "outputs": [],
   "source": [
    "e_list = [32, 55, 710, 1]\n",
    "# Write your solution below.\n",
    "total = 0\n",
    "\n",
    "print('The sum of e_list is (should be 798):')\n",
    "print(total)"
   ]
  },
  {
   "cell_type": "code",
   "execution_count": null,
   "metadata": {
    "collapsed": true
   },
   "outputs": [],
   "source": []
  }
 ],
 "metadata": {
  "anaconda-cloud": {},
  "kernelspec": {
   "display_name": "Python 3",
   "language": "python",
   "name": "python3"
  },
  "language_info": {
   "codemirror_mode": {
    "name": "ipython",
    "version": 3
   },
   "file_extension": ".py",
   "mimetype": "text/x-python",
   "name": "python",
   "nbconvert_exporter": "python",
   "pygments_lexer": "ipython3",
   "version": "3.6.0"
  }
 },
 "nbformat": 4,
 "nbformat_minor": 1
}
